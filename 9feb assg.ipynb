{
 "cells": [
  {
   "cell_type": "markdown",
   "id": "8fa1a448-0884-4ce1-b18b-c692c3e2cd10",
   "metadata": {},
   "source": [
    "### Q1. Create a vehicle class with an init method having instance variables as name_of_vehicle, max_speed and average_of_vehicle."
   ]
  },
  {
   "cell_type": "code",
   "execution_count": 1,
   "id": "34e2c7be-fae3-475a-b183-823212dd30b5",
   "metadata": {},
   "outputs": [],
   "source": [
    "class vehicle :\n",
    "    \n",
    "    def __init__(self,name_of_vehicle,max_speed,average_of_vehicle):\n",
    "        \n",
    "        self.name_of_vehicle= name_of_vehicle\n",
    "        self.max_speed=max_speed\n",
    "        self.average_of_vehicle=average_of_vehicle\n",
    "        "
   ]
  },
  {
   "cell_type": "code",
   "execution_count": null,
   "id": "5bec1cb8-a7fb-46bb-97a0-41e40465f82b",
   "metadata": {},
   "outputs": [],
   "source": []
  },
  {
   "cell_type": "markdown",
   "id": "ed2a94ce-469d-4d32-83dd-06d49a382358",
   "metadata": {},
   "source": [
    "### Q2. Create a child class car from the vehicle class created in Que 1, which will inherit the vehicle class. Create a method named seating_capacity which takes capacity as an argument and returns the name of the vehicle and its seating capacity."
   ]
  },
  {
   "cell_type": "code",
   "execution_count": 2,
   "id": "8b478681-107d-4401-9edc-7604d29253ab",
   "metadata": {},
   "outputs": [],
   "source": [
    "class Vehicle:\n",
    "    def __init__(self, name_of_vehicle, max_speed, average_of_vehicle):\n",
    "        self.name_of_vehicle = name_of_vehicle\n",
    "        self.max_speed = max_speed\n",
    "        self.average_of_vehicle = average_of_vehicle\n",
    "\n",
    "class Car(Vehicle):\n",
    "    def seating_capacity(self, capacity):\n",
    "        return f\"{self.name_of_vehicle} seating capacity is {capacity}\"\n"
   ]
  },
  {
   "cell_type": "code",
   "execution_count": 3,
   "id": "55ff4f01-7658-4bba-852c-ed7b0dae9194",
   "metadata": {},
   "outputs": [],
   "source": [
    "abc=Car(\"Chevrolet Camaro\",250,12)"
   ]
  },
  {
   "cell_type": "code",
   "execution_count": 4,
   "id": "c4e15312-c92d-4ea7-9d1a-712fe9860bf3",
   "metadata": {},
   "outputs": [
    {
     "data": {
      "text/plain": [
       "'Chevrolet Camaro seating capacity is 4'"
      ]
     },
     "execution_count": 4,
     "metadata": {},
     "output_type": "execute_result"
    }
   ],
   "source": [
    "abc.seating_capacity(4)"
   ]
  },
  {
   "cell_type": "code",
   "execution_count": null,
   "id": "853354a2-1b2c-4895-8256-83a99d83ea27",
   "metadata": {},
   "outputs": [],
   "source": []
  },
  {
   "cell_type": "markdown",
   "id": "c216e5bb-8d9f-40f0-8ae3-8374b48cd5e1",
   "metadata": {},
   "source": [
    "### Q3. What is multiple inheritance? Write a python code to demonstrate multiple inheritance."
   ]
  },
  {
   "cell_type": "markdown",
   "id": "5ba6eeee-b2f7-4f4d-a20f-bdecd18bba0e",
   "metadata": {},
   "source": [
    "Multiple Inheritance: A subclass inherits from multiple superclasses.This allows a class to inherit attributes and methods from multiple sources."
   ]
  },
  {
   "cell_type": "code",
   "execution_count": 5,
   "id": "6718ec0f-4e58-4599-97ae-d9fa87cfd4b1",
   "metadata": {},
   "outputs": [
    {
     "name": "stdout",
     "output_type": "stream",
     "text": [
      "Breathing\n",
      "Is Animal\n",
      "Is flying\n"
     ]
    },
    {
     "data": {
      "text/plain": [
       "'Korona'"
      ]
     },
     "execution_count": 5,
     "metadata": {},
     "output_type": "execute_result"
    }
   ],
   "source": [
    "class Biotic:\n",
    "    \n",
    "    def __init__(self,name):\n",
    "        self.name=name\n",
    "    \n",
    "    def breathe(self):\n",
    "        print(\"Breathing\")\n",
    "        \n",
    "class Mammal(Biotic):\n",
    "    \n",
    "    def Animal(self):\n",
    "        print(\"Is Animal\")\n",
    "        \n",
    "class WingedAnimal(Biotic):\n",
    "    \n",
    "    def fly(self):\n",
    "        print(\"Is flying\")\n",
    "        \n",
    "class Bat(Mammal,WingedAnimal):\n",
    "    pass\n",
    "\n",
    "\n",
    "bat=Bat(\"Korona\")\n",
    "\n",
    "bat.breathe()\n",
    "bat.Animal()\n",
    "bat.fly()\n",
    "bat.name"
   ]
  },
  {
   "cell_type": "code",
   "execution_count": null,
   "id": "9ab75112-8574-43be-b307-4cac10d22966",
   "metadata": {},
   "outputs": [],
   "source": []
  },
  {
   "cell_type": "markdown",
   "id": "e4e130fb-3f11-4bbf-87ab-b3763383d717",
   "metadata": {},
   "source": [
    "### Q4. What are getter and setter in python? Create a class and create a getter and a setter method in this class."
   ]
  },
  {
   "cell_type": "markdown",
   "id": "452ab56b-c786-47bd-9d57-d649edc5441c",
   "metadata": {},
   "source": [
    "Getters: It is a method used in OOPs which helps to access the private attribute from a class.\n",
    "\n",
    "Setters: These are the methods used in OOPS which helps to set the value to private attributes in a class."
   ]
  },
  {
   "cell_type": "code",
   "execution_count": 6,
   "id": "9a8fd05a-7220-4a4c-9c78-048f3014fa88",
   "metadata": {},
   "outputs": [],
   "source": [
    "class car:\n",
    "    \n",
    "    def __init__(self,year,make,model,speed):\n",
    "        \n",
    "        self.__year=year\n",
    "        self.__make=make\n",
    "        self.__model=model\n",
    "        self.__speed=180\n",
    "        \n",
    "        \n",
    "    # creating getter and setter:    \n",
    "    def set_speed(self,speed):\n",
    "        \n",
    "        self.__speed= 180 if speed<180 else speed\n",
    "        \n",
    "    def get_speed(self):\n",
    "        \n",
    "        return self.__speed"
   ]
  },
  {
   "cell_type": "code",
   "execution_count": 7,
   "id": "03b4969a-0463-497a-b416-ae30cbfdb96a",
   "metadata": {},
   "outputs": [],
   "source": [
    "c=car(2021,'Chevrolet','Camaro',200)"
   ]
  },
  {
   "cell_type": "code",
   "execution_count": 8,
   "id": "0821aaf0-abda-4d6a-afd8-5b00f3edf90b",
   "metadata": {},
   "outputs": [
    {
     "data": {
      "text/plain": [
       "180"
      ]
     },
     "execution_count": 8,
     "metadata": {},
     "output_type": "execute_result"
    }
   ],
   "source": [
    "c.get_speed()"
   ]
  },
  {
   "cell_type": "code",
   "execution_count": null,
   "id": "38bc5f47-9b69-4dd9-b41c-9b327fdc7981",
   "metadata": {},
   "outputs": [],
   "source": []
  }
 ],
 "metadata": {
  "kernelspec": {
   "display_name": "Python 3 (ipykernel)",
   "language": "python",
   "name": "python3"
  },
  "language_info": {
   "codemirror_mode": {
    "name": "ipython",
    "version": 3
   },
   "file_extension": ".py",
   "mimetype": "text/x-python",
   "name": "python",
   "nbconvert_exporter": "python",
   "pygments_lexer": "ipython3",
   "version": "3.10.8"
  }
 },
 "nbformat": 4,
 "nbformat_minor": 5
}
